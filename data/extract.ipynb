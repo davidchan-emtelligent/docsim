{
 "cells": [
  {
   "cell_type": "code",
   "execution_count": 1,
   "metadata": {},
   "outputs": [
    {
     "data": {
      "text/plain": [
       "0"
      ]
     },
     "execution_count": 1,
     "metadata": {},
     "output_type": "execute_result"
    }
   ],
   "source": [
    "import os\n",
    "os.system(\"pip install xml2dict\")"
   ]
  },
  {
   "cell_type": "code",
   "execution_count": 3,
   "metadata": {},
   "outputs": [],
   "source": [
    "dir=\"corpus/fulltext\"\n",
    "paths = [os.path.join(dir, f) for f in os.listdir(dir)]"
   ]
  },
  {
   "cell_type": "code",
   "execution_count": 93,
   "metadata": {},
   "outputs": [],
   "source": [
    "import xmltodict\n",
    "from xml.sax.saxutils import escape\n",
    "\n",
    "files = []\n",
    "for f in paths[:]:\n",
    "    with open(f, encoding='latin-1') as fd:\n",
    "        text = str(fd.read()).replace('\"id=', 'id=\"')\n",
    "\n",
    "        try:\n",
    "            files += [(f, xmltodict.parse(text))]\n",
    "        except:\n",
    "            try:\n",
    "                files += [(f, xmltodict.parse(text.replace('&', '&amp;')))]\n",
    "            except:\n",
    "                print(text)"
   ]
  },
  {
   "cell_type": "code",
   "execution_count": 97,
   "metadata": {},
   "outputs": [
    {
     "data": {
      "text/plain": [
       "odict_keys(['case'])"
      ]
     },
     "execution_count": 97,
     "metadata": {},
     "output_type": "execute_result"
    }
   ],
   "source": [
    "files[0][1].keys()"
   ]
  },
  {
   "cell_type": "code",
   "execution_count": 98,
   "metadata": {},
   "outputs": [
    {
     "name": "stdout",
     "output_type": "stream",
     "text": [
      "odict_keys(['name', 'AustLII', 'catchphrases', 'sentences']) odict_keys(['@id', '#text'])\n",
      "odict_keys(['@id', '#text'])\n"
     ]
    }
   ],
   "source": [
    "print(files[0][1]['case'].keys(), files[0][1]['case']['sentences']['sentence'][0].keys())\n",
    "print(files[0][1]['case']['catchphrases']['catchphrase'][0].keys())"
   ]
  },
  {
   "cell_type": "code",
   "execution_count": 99,
   "metadata": {},
   "outputs": [
    {
     "name": "stdout",
     "output_type": "stream",
     "text": [
      "Pitt v OneSteel Reinforcing Pty Limited [2008] FCA 923 (3 June 2008)\n",
      "http://www.austlii.edu.au/au/cases/cth/FCA/2008/923.html\n"
     ]
    }
   ],
   "source": [
    "print(files[0][1]['case']['name'])\n",
    "print(files[0][1]['case']['AustLII'])"
   ]
  },
  {
   "cell_type": "code",
   "execution_count": 125,
   "metadata": {},
   "outputs": [],
   "source": [
    "import json, pprint\n",
    "out_dir = \"out_dir\"\n",
    "p_paths = []\n",
    "s_paths = []\n",
    "for f, f_dict in files[:]:\n",
    "    f = f.split(\"/\")[-1][:-4]\n",
    "    p_f = f+\".sentences.txt\"\n",
    "    s_f = f+\".phrases.txt\"\n",
    "    phrases_lst = f_dict['case']['catchphrases']['catchphrase']\n",
    "    if isinstance(phrases_lst, list):\n",
    "        phrases = [(int(p['@id'][1:]), p['#text']) for p in phrases_lst]\n",
    "    else:\n",
    "        phrases = [(int(phrases_lst['@id'][1:]), phrases_lst['#text'])]\n",
    "    sentences_lst = f_dict['case']['sentences']['sentence']\n",
    "    if isinstance(sentences_lst, list):\n",
    "        sentences = [(int(p['@id'][1:]), p['#text']) for p in sentences_lst]\n",
    "    else:\n",
    "        sentences = [(int(sentences_lst['@id'][1:]), sentences_lst['#text'])]\n",
    "\n",
    "    with open(p_f, \"w\") as fd:\n",
    "        fd.write(\"\\n\".join([x[1] for x in sorted(phrases, key=lambda x: x[0])]))\n",
    "    with open(s_f, \"w\") as fd:\n",
    "        fd.write(\"\\n\".join([x[1] for x in sorted(sentences, key=lambda x: x[0])]))\n",
    "    p_paths += [p_f]\n",
    "    s_paths += [s_f]"
   ]
  },
  {
   "cell_type": "code",
   "execution_count": 121,
   "metadata": {},
   "outputs": [
    {
     "name": "stdout",
     "output_type": "stream",
     "text": [
      "OrderedDict([('@id', 'c0'), ('#text', 'misleading and deceptive conduct')])\n",
      "[('c0', 'misleading and deceptive conduct'), ('c1', 'penalty'), ('c2', 'where first respondent admitted engaging in misleading or deceptive conduct or conduct likely to mislead or deceive'), ('c3', 'where parties submitted draft consent orders and statement of agreed facts'), ('c4', 'trade practices')]\n"
     ]
    }
   ],
   "source": [
    "print(f_dict['case']['catchphrases']['catchphrase'][0])\n",
    "print([(p['@id'], p['#text']) for p in f_dict['case']['catchphrases']['catchphrase']])\n"
   ]
  },
  {
   "cell_type": "code",
   "execution_count": 126,
   "metadata": {},
   "outputs": [],
   "source": [
    "with open(os.path.join(out_dir, \"sentences.paths\"), \"w\") as fd:\n",
    "    fd.write(\"\\n\".join(s_paths))\n",
    "with open(os.path.join(out_dir, \"phrases.paths\"), \"w\") as fd:\n",
    "    fd.write(\"\\n\".join(p_paths))"
   ]
  },
  {
   "cell_type": "code",
   "execution_count": 42,
   "metadata": {},
   "outputs": [
    {
     "ename": "ParseError",
     "evalue": "not well-formed (invalid token): line 6, column 13 (<string>)",
     "output_type": "error",
     "traceback": [
      "Traceback \u001b[0;36m(most recent call last)\u001b[0m:\n",
      "  File \u001b[1;32m\"/home/lca80/anaconda2/envs/py36/lib/python3.6/site-packages/IPython/core/interactiveshell.py\"\u001b[0m, line \u001b[1;32m2862\u001b[0m, in \u001b[1;35mrun_code\u001b[0m\n    exec(code_obj, self.user_global_ns, self.user_ns)\n",
      "  File \u001b[1;32m\"<ipython-input-42-6e46689e9cb0>\"\u001b[0m, line \u001b[1;32m6\u001b[0m, in \u001b[1;35m<module>\u001b[0m\n    tree = ET.parse(paths[0])\n",
      "  File \u001b[1;32m\"/home/lca80/anaconda2/envs/py36/lib/python3.6/xml/etree/ElementTree.py\"\u001b[0m, line \u001b[1;32m1196\u001b[0m, in \u001b[1;35mparse\u001b[0m\n    tree.parse(source, parser)\n",
      "\u001b[0;36m  File \u001b[0;32m\"/home/lca80/anaconda2/envs/py36/lib/python3.6/xml/etree/ElementTree.py\"\u001b[0;36m, line \u001b[0;32m597\u001b[0;36m, in \u001b[0;35mparse\u001b[0;36m\u001b[0m\n\u001b[0;31m    self._root = parser._parse_whole(source)\u001b[0m\n",
      "\u001b[0;36m  File \u001b[0;32m\"<string>\"\u001b[0;36m, line \u001b[0;32munknown\u001b[0m\n\u001b[0;31mParseError\u001b[0m\u001b[0;31m:\u001b[0m not well-formed (invalid token): line 6, column 13\n"
     ]
    }
   ],
   "source": [
    "import xml.etree.ElementTree as ET\n",
    "import xmltodict\n",
    "import json\n",
    "\n",
    "\n",
    "tree = ET.parse(paths[0])\n",
    "xml_data = tree.getroot()\n",
    "#here you can change the encoding type to be able to set it to the one you need\n",
    "xmlstr = ET.tostring(xml_data, encoding='utf-8', method='xml')\n",
    "\n",
    "data_dict = dict(xmltodict.parse(xmlstr))"
   ]
  },
  {
   "cell_type": "code",
   "execution_count": 49,
   "metadata": {},
   "outputs": [
    {
     "ename": "ExpatError",
     "evalue": "not well-formed (invalid token): line 1, column 13",
     "output_type": "error",
     "traceback": [
      "\u001b[0;31m---------------------------------------------------------------------------\u001b[0m",
      "\u001b[0;31mExpatError\u001b[0m                                Traceback (most recent call last)",
      "\u001b[0;32m<ipython-input-49-8e6fafd594d0>\u001b[0m in \u001b[0;36m<module>\u001b[0;34m()\u001b[0m\n\u001b[1;32m      1\u001b[0m \u001b[0mxml\u001b[0m \u001b[0;34m=\u001b[0m \u001b[0;34m'<catchphrase \"id=c1\">viable cause of action shown on material</catchphrase>'\u001b[0m\u001b[0;34m\u001b[0m\u001b[0;34m\u001b[0m\u001b[0m\n\u001b[0;32m----> 2\u001b[0;31m \u001b[0mdict\u001b[0m\u001b[0;34m(\u001b[0m\u001b[0mxmltodict\u001b[0m\u001b[0;34m.\u001b[0m\u001b[0mparse\u001b[0m\u001b[0;34m(\u001b[0m\u001b[0mxml\u001b[0m\u001b[0;34m)\u001b[0m\u001b[0;34m)\u001b[0m\u001b[0;34m\u001b[0m\u001b[0;34m\u001b[0m\u001b[0m\n\u001b[0m",
      "\u001b[0;32m~/anaconda2/envs/py36/lib/python3.6/site-packages/xmltodict.py\u001b[0m in \u001b[0;36mparse\u001b[0;34m(xml_input, encoding, expat, process_namespaces, namespace_separator, disable_entities, **kwargs)\u001b[0m\n\u001b[1;32m    328\u001b[0m         \u001b[0mparser\u001b[0m\u001b[0;34m.\u001b[0m\u001b[0mParseFile\u001b[0m\u001b[0;34m(\u001b[0m\u001b[0mxml_input\u001b[0m\u001b[0;34m)\u001b[0m\u001b[0;34m\u001b[0m\u001b[0;34m\u001b[0m\u001b[0m\n\u001b[1;32m    329\u001b[0m     \u001b[0;32melse\u001b[0m\u001b[0;34m:\u001b[0m\u001b[0;34m\u001b[0m\u001b[0;34m\u001b[0m\u001b[0m\n\u001b[0;32m--> 330\u001b[0;31m         \u001b[0mparser\u001b[0m\u001b[0;34m.\u001b[0m\u001b[0mParse\u001b[0m\u001b[0;34m(\u001b[0m\u001b[0mxml_input\u001b[0m\u001b[0;34m,\u001b[0m \u001b[0;32mTrue\u001b[0m\u001b[0;34m)\u001b[0m\u001b[0;34m\u001b[0m\u001b[0;34m\u001b[0m\u001b[0m\n\u001b[0m\u001b[1;32m    331\u001b[0m     \u001b[0;32mreturn\u001b[0m \u001b[0mhandler\u001b[0m\u001b[0;34m.\u001b[0m\u001b[0mitem\u001b[0m\u001b[0;34m\u001b[0m\u001b[0;34m\u001b[0m\u001b[0m\n\u001b[1;32m    332\u001b[0m \u001b[0;34m\u001b[0m\u001b[0m\n",
      "\u001b[0;31mExpatError\u001b[0m: not well-formed (invalid token): line 1, column 13"
     ]
    }
   ],
   "source": [
    "xml = '<catchphrase \"id=c1\">viable cause of action shown on material</catchphrase>'\n",
    "dict(xmltodict.parse(xml))"
   ]
  },
  {
   "cell_type": "code",
   "execution_count": null,
   "metadata": {},
   "outputs": [],
   "source": []
  }
 ],
 "metadata": {
  "kernelspec": {
   "display_name": "conda3",
   "language": "python",
   "name": "conda3"
  },
  "language_info": {
   "codemirror_mode": {
    "name": "ipython",
    "version": 3
   },
   "file_extension": ".py",
   "mimetype": "text/x-python",
   "name": "python",
   "nbconvert_exporter": "python",
   "pygments_lexer": "ipython3",
   "version": "3.6.8"
  }
 },
 "nbformat": 4,
 "nbformat_minor": 2
}
